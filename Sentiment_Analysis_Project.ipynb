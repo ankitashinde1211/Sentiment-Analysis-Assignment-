{
  "cells": [
    {
      "cell_type": "markdown",
      "metadata": {
        "id": "view-in-github",
        "colab_type": "text"
      },
      "source": [
        "<a href=\"https://colab.research.google.com/github/ankitashinde1211/Sentiment-Analysis-Assignment-/blob/main/Sentiment_Analysis_Project.ipynb\" target=\"_parent\"><img src=\"https://colab.research.google.com/assets/colab-badge.svg\" alt=\"Open In Colab\"/></a>"
      ]
    },
    {
      "cell_type": "markdown",
      "id": "54710e8e",
      "metadata": {
        "id": "54710e8e"
      },
      "source": [
        "## <center> NLP Sentiment Analysis for Customer Feedback"
      ]
    },
    {
      "cell_type": "markdown",
      "id": "6303a8ce",
      "metadata": {
        "id": "6303a8ce"
      },
      "source": [
        "## 1.Problem Statement - "
      ]
    },
    {
      "cell_type": "markdown",
      "id": "e8c5e3fe",
      "metadata": {
        "id": "e8c5e3fe"
      },
      "source": [
        " **This is an add-on project for a client that wants to learn about their customers' sentiments through feedback and ratings in order to retain them and enhance their services to fulfil their needs."
      ]
    },
    {
      "cell_type": "markdown",
      "id": "48ae01d6",
      "metadata": {
        "id": "48ae01d6"
      },
      "source": [
        "## 2.Importing Library for data gathering and EDA"
      ]
    },
    {
      "cell_type": "code",
      "execution_count": null,
      "id": "2851b910",
      "metadata": {
        "id": "2851b910"
      },
      "outputs": [],
      "source": [
        "import pandas as pd \n",
        "import numpy as np\n",
        "from nltk.tokenize import word_tokenize\n",
        "from nltk.stem import WordNetLemmatizer\n",
        "from nltk.corpus import stopwords\n",
        "import matplotlib.pyplot as plt\n",
        "import seaborn as sns\n",
        "\n",
        "import warnings\n",
        "warnings.filterwarnings(\"ignore\")"
      ]
    },
    {
      "cell_type": "markdown",
      "id": "3eb7b19a",
      "metadata": {
        "id": "3eb7b19a"
      },
      "source": [
        "#### Collecting Data"
      ]
    },
    {
      "cell_type": "code",
      "execution_count": null,
      "id": "16538967",
      "metadata": {
        "id": "16538967",
        "outputId": "8abd3e38-3364-4699-bef7-4cb8a339aba4",
        "colab": {
          "base_uri": "https://localhost:8080/",
          "height": 206
        }
      },
      "outputs": [
        {
          "output_type": "execute_result",
          "data": {
            "text/plain": [
              "                                              review  rating\n",
              "0  It was nice produt. I like it's design a lot. ...       5\n",
              "1  awesome sound....very pretty to see this nd th...       5\n",
              "2  awesome sound quality. pros 7-8 hrs of battery...       4\n",
              "3  I think it is such a good product not only as ...       5\n",
              "4  awesome bass sound quality very good bettary l...       5"
            ],
            "text/html": [
              "\n",
              "  <div id=\"df-5e002945-b2f7-412b-8656-567eb725ae30\">\n",
              "    <div class=\"colab-df-container\">\n",
              "      <div>\n",
              "<style scoped>\n",
              "    .dataframe tbody tr th:only-of-type {\n",
              "        vertical-align: middle;\n",
              "    }\n",
              "\n",
              "    .dataframe tbody tr th {\n",
              "        vertical-align: top;\n",
              "    }\n",
              "\n",
              "    .dataframe thead th {\n",
              "        text-align: right;\n",
              "    }\n",
              "</style>\n",
              "<table border=\"1\" class=\"dataframe\">\n",
              "  <thead>\n",
              "    <tr style=\"text-align: right;\">\n",
              "      <th></th>\n",
              "      <th>review</th>\n",
              "      <th>rating</th>\n",
              "    </tr>\n",
              "  </thead>\n",
              "  <tbody>\n",
              "    <tr>\n",
              "      <th>0</th>\n",
              "      <td>It was nice produt. I like it's design a lot. ...</td>\n",
              "      <td>5</td>\n",
              "    </tr>\n",
              "    <tr>\n",
              "      <th>1</th>\n",
              "      <td>awesome sound....very pretty to see this nd th...</td>\n",
              "      <td>5</td>\n",
              "    </tr>\n",
              "    <tr>\n",
              "      <th>2</th>\n",
              "      <td>awesome sound quality. pros 7-8 hrs of battery...</td>\n",
              "      <td>4</td>\n",
              "    </tr>\n",
              "    <tr>\n",
              "      <th>3</th>\n",
              "      <td>I think it is such a good product not only as ...</td>\n",
              "      <td>5</td>\n",
              "    </tr>\n",
              "    <tr>\n",
              "      <th>4</th>\n",
              "      <td>awesome bass sound quality very good bettary l...</td>\n",
              "      <td>5</td>\n",
              "    </tr>\n",
              "  </tbody>\n",
              "</table>\n",
              "</div>\n",
              "      <button class=\"colab-df-convert\" onclick=\"convertToInteractive('df-5e002945-b2f7-412b-8656-567eb725ae30')\"\n",
              "              title=\"Convert this dataframe to an interactive table.\"\n",
              "              style=\"display:none;\">\n",
              "        \n",
              "  <svg xmlns=\"http://www.w3.org/2000/svg\" height=\"24px\"viewBox=\"0 0 24 24\"\n",
              "       width=\"24px\">\n",
              "    <path d=\"M0 0h24v24H0V0z\" fill=\"none\"/>\n",
              "    <path d=\"M18.56 5.44l.94 2.06.94-2.06 2.06-.94-2.06-.94-.94-2.06-.94 2.06-2.06.94zm-11 1L8.5 8.5l.94-2.06 2.06-.94-2.06-.94L8.5 2.5l-.94 2.06-2.06.94zm10 10l.94 2.06.94-2.06 2.06-.94-2.06-.94-.94-2.06-.94 2.06-2.06.94z\"/><path d=\"M17.41 7.96l-1.37-1.37c-.4-.4-.92-.59-1.43-.59-.52 0-1.04.2-1.43.59L10.3 9.45l-7.72 7.72c-.78.78-.78 2.05 0 2.83L4 21.41c.39.39.9.59 1.41.59.51 0 1.02-.2 1.41-.59l7.78-7.78 2.81-2.81c.8-.78.8-2.07 0-2.86zM5.41 20L4 18.59l7.72-7.72 1.47 1.35L5.41 20z\"/>\n",
              "  </svg>\n",
              "      </button>\n",
              "      \n",
              "  <style>\n",
              "    .colab-df-container {\n",
              "      display:flex;\n",
              "      flex-wrap:wrap;\n",
              "      gap: 12px;\n",
              "    }\n",
              "\n",
              "    .colab-df-convert {\n",
              "      background-color: #E8F0FE;\n",
              "      border: none;\n",
              "      border-radius: 50%;\n",
              "      cursor: pointer;\n",
              "      display: none;\n",
              "      fill: #1967D2;\n",
              "      height: 32px;\n",
              "      padding: 0 0 0 0;\n",
              "      width: 32px;\n",
              "    }\n",
              "\n",
              "    .colab-df-convert:hover {\n",
              "      background-color: #E2EBFA;\n",
              "      box-shadow: 0px 1px 2px rgba(60, 64, 67, 0.3), 0px 1px 3px 1px rgba(60, 64, 67, 0.15);\n",
              "      fill: #174EA6;\n",
              "    }\n",
              "\n",
              "    [theme=dark] .colab-df-convert {\n",
              "      background-color: #3B4455;\n",
              "      fill: #D2E3FC;\n",
              "    }\n",
              "\n",
              "    [theme=dark] .colab-df-convert:hover {\n",
              "      background-color: #434B5C;\n",
              "      box-shadow: 0px 1px 3px 1px rgba(0, 0, 0, 0.15);\n",
              "      filter: drop-shadow(0px 1px 2px rgba(0, 0, 0, 0.3));\n",
              "      fill: #FFFFFF;\n",
              "    }\n",
              "  </style>\n",
              "\n",
              "      <script>\n",
              "        const buttonEl =\n",
              "          document.querySelector('#df-5e002945-b2f7-412b-8656-567eb725ae30 button.colab-df-convert');\n",
              "        buttonEl.style.display =\n",
              "          google.colab.kernel.accessAllowed ? 'block' : 'none';\n",
              "\n",
              "        async function convertToInteractive(key) {\n",
              "          const element = document.querySelector('#df-5e002945-b2f7-412b-8656-567eb725ae30');\n",
              "          const dataTable =\n",
              "            await google.colab.kernel.invokeFunction('convertToInteractive',\n",
              "                                                     [key], {});\n",
              "          if (!dataTable) return;\n",
              "\n",
              "          const docLinkHtml = 'Like what you see? Visit the ' +\n",
              "            '<a target=\"_blank\" href=https://colab.research.google.com/notebooks/data_table.ipynb>data table notebook</a>'\n",
              "            + ' to learn more about interactive tables.';\n",
              "          element.innerHTML = '';\n",
              "          dataTable['output_type'] = 'display_data';\n",
              "          await google.colab.output.renderOutput(dataTable, element);\n",
              "          const docLink = document.createElement('div');\n",
              "          docLink.innerHTML = docLinkHtml;\n",
              "          element.appendChild(docLink);\n",
              "        }\n",
              "      </script>\n",
              "    </div>\n",
              "  </div>\n",
              "  "
            ]
          },
          "metadata": {},
          "execution_count": 11
        }
      ],
      "source": [
        "nlp_raw_data = pd.read_csv('/content/data_sentiment_headphone.csv')\n",
        "nlp_raw_data.head()"
      ]
    },
    {
      "cell_type": "code",
      "execution_count": null,
      "id": "32b352c9",
      "metadata": {
        "scrolled": true,
        "id": "32b352c9",
        "outputId": "9a3c7510-1f8b-4a5c-8f56-d4733218a43c",
        "colab": {
          "base_uri": "https://localhost:8080/",
          "height": 206
        }
      },
      "outputs": [
        {
          "output_type": "execute_result",
          "data": {
            "text/plain": [
              "                                                  review  rating\n",
              "19947                                      GoodREAD MORE       5\n",
              "19948  Everything is amazimg but the built is very li...       5\n",
              "19949                                      GoodREAD MORE       5\n",
              "19950       Best headphone i have ever used....READ MORE       5\n",
              "19951                                      NiceREAD MORE       5"
            ],
            "text/html": [
              "\n",
              "  <div id=\"df-6f2099d3-9787-4483-abc1-138ac5d89c0e\">\n",
              "    <div class=\"colab-df-container\">\n",
              "      <div>\n",
              "<style scoped>\n",
              "    .dataframe tbody tr th:only-of-type {\n",
              "        vertical-align: middle;\n",
              "    }\n",
              "\n",
              "    .dataframe tbody tr th {\n",
              "        vertical-align: top;\n",
              "    }\n",
              "\n",
              "    .dataframe thead th {\n",
              "        text-align: right;\n",
              "    }\n",
              "</style>\n",
              "<table border=\"1\" class=\"dataframe\">\n",
              "  <thead>\n",
              "    <tr style=\"text-align: right;\">\n",
              "      <th></th>\n",
              "      <th>review</th>\n",
              "      <th>rating</th>\n",
              "    </tr>\n",
              "  </thead>\n",
              "  <tbody>\n",
              "    <tr>\n",
              "      <th>19947</th>\n",
              "      <td>GoodREAD MORE</td>\n",
              "      <td>5</td>\n",
              "    </tr>\n",
              "    <tr>\n",
              "      <th>19948</th>\n",
              "      <td>Everything is amazimg but the built is very li...</td>\n",
              "      <td>5</td>\n",
              "    </tr>\n",
              "    <tr>\n",
              "      <th>19949</th>\n",
              "      <td>GoodREAD MORE</td>\n",
              "      <td>5</td>\n",
              "    </tr>\n",
              "    <tr>\n",
              "      <th>19950</th>\n",
              "      <td>Best headphone i have ever used....READ MORE</td>\n",
              "      <td>5</td>\n",
              "    </tr>\n",
              "    <tr>\n",
              "      <th>19951</th>\n",
              "      <td>NiceREAD MORE</td>\n",
              "      <td>5</td>\n",
              "    </tr>\n",
              "  </tbody>\n",
              "</table>\n",
              "</div>\n",
              "      <button class=\"colab-df-convert\" onclick=\"convertToInteractive('df-6f2099d3-9787-4483-abc1-138ac5d89c0e')\"\n",
              "              title=\"Convert this dataframe to an interactive table.\"\n",
              "              style=\"display:none;\">\n",
              "        \n",
              "  <svg xmlns=\"http://www.w3.org/2000/svg\" height=\"24px\"viewBox=\"0 0 24 24\"\n",
              "       width=\"24px\">\n",
              "    <path d=\"M0 0h24v24H0V0z\" fill=\"none\"/>\n",
              "    <path d=\"M18.56 5.44l.94 2.06.94-2.06 2.06-.94-2.06-.94-.94-2.06-.94 2.06-2.06.94zm-11 1L8.5 8.5l.94-2.06 2.06-.94-2.06-.94L8.5 2.5l-.94 2.06-2.06.94zm10 10l.94 2.06.94-2.06 2.06-.94-2.06-.94-.94-2.06-.94 2.06-2.06.94z\"/><path d=\"M17.41 7.96l-1.37-1.37c-.4-.4-.92-.59-1.43-.59-.52 0-1.04.2-1.43.59L10.3 9.45l-7.72 7.72c-.78.78-.78 2.05 0 2.83L4 21.41c.39.39.9.59 1.41.59.51 0 1.02-.2 1.41-.59l7.78-7.78 2.81-2.81c.8-.78.8-2.07 0-2.86zM5.41 20L4 18.59l7.72-7.72 1.47 1.35L5.41 20z\"/>\n",
              "  </svg>\n",
              "      </button>\n",
              "      \n",
              "  <style>\n",
              "    .colab-df-container {\n",
              "      display:flex;\n",
              "      flex-wrap:wrap;\n",
              "      gap: 12px;\n",
              "    }\n",
              "\n",
              "    .colab-df-convert {\n",
              "      background-color: #E8F0FE;\n",
              "      border: none;\n",
              "      border-radius: 50%;\n",
              "      cursor: pointer;\n",
              "      display: none;\n",
              "      fill: #1967D2;\n",
              "      height: 32px;\n",
              "      padding: 0 0 0 0;\n",
              "      width: 32px;\n",
              "    }\n",
              "\n",
              "    .colab-df-convert:hover {\n",
              "      background-color: #E2EBFA;\n",
              "      box-shadow: 0px 1px 2px rgba(60, 64, 67, 0.3), 0px 1px 3px 1px rgba(60, 64, 67, 0.15);\n",
              "      fill: #174EA6;\n",
              "    }\n",
              "\n",
              "    [theme=dark] .colab-df-convert {\n",
              "      background-color: #3B4455;\n",
              "      fill: #D2E3FC;\n",
              "    }\n",
              "\n",
              "    [theme=dark] .colab-df-convert:hover {\n",
              "      background-color: #434B5C;\n",
              "      box-shadow: 0px 1px 3px 1px rgba(0, 0, 0, 0.15);\n",
              "      filter: drop-shadow(0px 1px 2px rgba(0, 0, 0, 0.3));\n",
              "      fill: #FFFFFF;\n",
              "    }\n",
              "  </style>\n",
              "\n",
              "      <script>\n",
              "        const buttonEl =\n",
              "          document.querySelector('#df-6f2099d3-9787-4483-abc1-138ac5d89c0e button.colab-df-convert');\n",
              "        buttonEl.style.display =\n",
              "          google.colab.kernel.accessAllowed ? 'block' : 'none';\n",
              "\n",
              "        async function convertToInteractive(key) {\n",
              "          const element = document.querySelector('#df-6f2099d3-9787-4483-abc1-138ac5d89c0e');\n",
              "          const dataTable =\n",
              "            await google.colab.kernel.invokeFunction('convertToInteractive',\n",
              "                                                     [key], {});\n",
              "          if (!dataTable) return;\n",
              "\n",
              "          const docLinkHtml = 'Like what you see? Visit the ' +\n",
              "            '<a target=\"_blank\" href=https://colab.research.google.com/notebooks/data_table.ipynb>data table notebook</a>'\n",
              "            + ' to learn more about interactive tables.';\n",
              "          element.innerHTML = '';\n",
              "          dataTable['output_type'] = 'display_data';\n",
              "          await google.colab.output.renderOutput(dataTable, element);\n",
              "          const docLink = document.createElement('div');\n",
              "          docLink.innerHTML = docLinkHtml;\n",
              "          element.appendChild(docLink);\n",
              "        }\n",
              "      </script>\n",
              "    </div>\n",
              "  </div>\n",
              "  "
            ]
          },
          "metadata": {},
          "execution_count": 12
        }
      ],
      "source": [
        "nlp_raw_data.tail()"
      ]
    },
    {
      "cell_type": "code",
      "execution_count": null,
      "id": "b0e6da8e",
      "metadata": {
        "id": "b0e6da8e",
        "outputId": "0b32c41e-940c-4ff2-f97b-2b0b4ce52c82",
        "colab": {
          "base_uri": "https://localhost:8080/"
        }
      },
      "outputs": [
        {
          "output_type": "stream",
          "name": "stdout",
          "text": [
            "<class 'pandas.core.frame.DataFrame'>\n",
            "RangeIndex: 19952 entries, 0 to 19951\n",
            "Data columns (total 2 columns):\n",
            " #   Column  Non-Null Count  Dtype \n",
            "---  ------  --------------  ----- \n",
            " 0   review  19952 non-null  object\n",
            " 1   rating  19952 non-null  int64 \n",
            "dtypes: int64(1), object(1)\n",
            "memory usage: 311.9+ KB\n"
          ]
        }
      ],
      "source": [
        "nlp_raw_data.info()"
      ]
    },
    {
      "cell_type": "code",
      "execution_count": null,
      "id": "d16e454a",
      "metadata": {
        "id": "d16e454a",
        "outputId": "d7b0224e-35cb-420a-890e-5ce124fa7c6a",
        "colab": {
          "base_uri": "https://localhost:8080/"
        }
      },
      "outputs": [
        {
          "output_type": "execute_result",
          "data": {
            "text/plain": [
              "review    0\n",
              "rating    0\n",
              "dtype: int64"
            ]
          },
          "metadata": {},
          "execution_count": 14
        }
      ],
      "source": [
        "nlp_raw_data.isna().sum()"
      ]
    },
    {
      "cell_type": "code",
      "execution_count": null,
      "id": "09f8a4d5",
      "metadata": {
        "id": "09f8a4d5",
        "outputId": "4e3fd9cb-30d0-4664-8fa7-66e1e126e32c",
        "colab": {
          "base_uri": "https://localhost:8080/"
        }
      },
      "outputs": [
        {
          "output_type": "execute_result",
          "data": {
            "text/plain": [
              "(19952, 2)"
            ]
          },
          "metadata": {},
          "execution_count": 15
        }
      ],
      "source": [
        "nlp_raw_data.shape"
      ]
    },
    {
      "cell_type": "code",
      "execution_count": null,
      "id": "1555f243",
      "metadata": {
        "scrolled": true,
        "id": "1555f243",
        "outputId": "d26187f3-6193-47db-aa49-96eb76aaaa1e",
        "colab": {
          "base_uri": "https://localhost:8080/",
          "height": 471
        }
      },
      "outputs": [
        {
          "output_type": "execute_result",
          "data": {
            "text/plain": [
              "<Axes: xlabel='rating', ylabel='count'>"
            ]
          },
          "metadata": {},
          "execution_count": 25
        },
        {
          "output_type": "display_data",
          "data": {
            "text/plain": [
              "<Figure size 640x480 with 1 Axes>"
            ],
            "image/png": "[encoded data removed]"
          },
          "metadata": {}
        }
      ],
      "source": [
        "sns.countplot(data=nlp_raw_data, x=\"rating\")"
      ]
    },
    {
      "cell_type": "code",
      "execution_count": null,
      "id": "5dcb0aed",
      "metadata": {
        "id": "5dcb0aed",
        "outputId": "a75e4c45-79bc-4109-d9f3-f5c3fb255998",
        "colab": {
          "base_uri": "https://localhost:8080/"
        }
      },
      "outputs": [
        {
          "output_type": "execute_result",
          "data": {
            "text/plain": [
              "5    11452\n",
              "4     4730\n",
              "3     1768\n",
              "1     1382\n",
              "2      620\n",
              "Name: rating, dtype: int64"
            ]
          },
          "metadata": {},
          "execution_count": 26
        }
      ],
      "source": [
        "nlp_raw_data.rating.value_counts()"
      ]
    },
    {
      "cell_type": "markdown",
      "id": "62a6b201",
      "metadata": {
        "id": "62a6b201"
      },
      "source": [
        "#### Splitting of data"
      ]
    },
    {
      "cell_type": "code",
      "execution_count": null,
      "id": "da11ab1b",
      "metadata": {
        "id": "da11ab1b"
      },
      "outputs": [],
      "source": [
        "from sklearn.model_selection import train_test_split\n",
        "X_train,X_test,y_train,y_test = train_test_split(nlp_raw_data.review,nlp_raw_data.rating,test_size=0.2,random_state=42)"
      ]
    },
    {
      "cell_type": "code",
      "execution_count": null,
      "id": "fa45f83c",
      "metadata": {
        "id": "fa45f83c",
        "outputId": "0a6485d2-e958-40f5-a198-ad3c3fc83e5a",
        "colab": {
          "base_uri": "https://localhost:8080/"
        }
      },
      "outputs": [
        {
          "output_type": "execute_result",
          "data": {
            "text/plain": [
              "17167                     Fabulous worth of pennyREAD MORE\n",
              "4702                                         GoodREAD MORE\n",
              "1707     the product is good but the delivery was too l...\n",
              "254      This is what I wanted. I got it @INR 999. I am...\n",
              "11761    It has issue in connectivity, it doesn't play ...\n",
              "Name: review, dtype: object"
            ]
          },
          "metadata": {},
          "execution_count": 28
        }
      ],
      "source": [
        "X_train.head()"
      ]
    },
    {
      "cell_type": "code",
      "execution_count": null,
      "id": "28b93445",
      "metadata": {
        "id": "28b93445",
        "outputId": "bbb1984f-0569-40c1-932f-af4eccc1e984",
        "colab": {
          "base_uri": "https://localhost:8080/"
        }
      },
      "outputs": [
        {
          "output_type": "execute_result",
          "data": {
            "text/plain": [
              "17167    5\n",
              "4702     4\n",
              "1707     4\n",
              "254      3\n",
              "11761    1\n",
              "Name: rating, dtype: int64"
            ]
          },
          "metadata": {},
          "execution_count": 29
        }
      ],
      "source": [
        "y_train.head()"
      ]
    },
    {
      "cell_type": "markdown",
      "id": "9f0facd8",
      "metadata": {
        "id": "9f0facd8"
      },
      "source": [
        "#### Tokenization"
      ]
    },
    {
      "cell_type": "code",
      "execution_count": null,
      "id": "85aed981",
      "metadata": {
        "id": "85aed981"
      },
      "outputs": [],
      "source": [
        "# tokenization\n",
        "def tokenization(data):\n",
        "    tokens = word_tokenize(data)\n",
        "    return tokens"
      ]
    },
    {
      "cell_type": "code",
      "source": [
        "import nltk\n",
        "nltk.download(\"all\")"
      ],
      "metadata": {
        "colab": {
          "base_uri": "https://localhost:8080/"
        },
        "id": "jEjcVpCX7JMN",
        "outputId": "5df10ea5-ef12-4235-b5dc-d6ea849728de"
      },
      "id": "jEjcVpCX7JMN",
      "execution_count": null,
      "outputs": [
        {
          "output_type": "stream",
          "name": "stderr",
          "text": [
            "[nltk_data] Downloading collection 'all'\n",
            "[nltk_data]    | \n",
            "[nltk_data]    | Downloading package abc to /root/nltk_data...\n",
            "[nltk_data]    |   Unzipping corpora/abc.zip.\n",
            "[nltk_data]    | Downloading package alpino to /root/nltk_data...\n",
            "[nltk_data]    |   Unzipping corpora/alpino.zip.\n",
            "[nltk_data]    | Downloading package averaged_perceptron_tagger to\n",
            "[nltk_data]    |     /root/nltk_data...\n",
            "[nltk_data]    |   Unzipping taggers/averaged_perceptron_tagger.zip.\n",
            "[nltk_data]    | Downloading package averaged_perceptron_tagger_ru to\n",
            "[nltk_data]    |     /root/nltk_data...\n",
            "[nltk_data]    |   Unzipping\n",
            "[nltk_data]    |       taggers/averaged_perceptron_tagger_ru.zip.\n",
            "[nltk_data]    | Downloading package basque_grammars to\n",
            "[nltk_data]    |     /root/nltk_data...\n",
            "[nltk_data]    |   Unzipping grammars/basque_grammars.zip.\n",
            "[nltk_data]    | Downloading package bcp47 to /root/nltk_data...\n",
            "[nltk_data]    | Downloading package biocreative_ppi to\n",
            "[nltk_data]    |     /root/nltk_data...\n",
            "[nltk_data]    |   Unzipping corpora/biocreative_ppi.zip.\n",
            "[nltk_data]    | Downloading package bllip_wsj_no_aux to\n",
            "[nltk_data]    |     /root/nltk_data...\n",
            "[nltk_data]    |   Unzipping models/bllip_wsj_no_aux.zip.\n",
            "[nltk_data]    | Downloading package book_grammars to\n",
            "[nltk_data]    |     /root/nltk_data...\n",
            "[nltk_data]    |   Unzipping grammars/book_grammars.zip.\n",
            "[nltk_data]    | Downloading package brown to /root/nltk_data...\n",
            "[nltk_data]    |   Unzipping corpora/brown.zip.\n",
            "[nltk_data]    | Downloading package brown_tei to /root/nltk_data...\n",
            "[nltk_data]    |   Unzipping corpora/brown_tei.zip.\n",
            "[nltk_data]    | Downloading package cess_cat to /root/nltk_data...\n",
            "[nltk_data]    |   Unzipping corpora/cess_cat.zip.\n",
            "[nltk_data]    | Downloading package cess_esp to /root/nltk_data...\n",
            "[nltk_data]    |   Unzipping corpora/cess_esp.zip.\n",
            "[nltk_data]    | Downloading package chat80 to /root/nltk_data...\n",
            "[nltk_data]    |   Unzipping corpora/chat80.zip.\n",
            "[nltk_data]    | Downloading package city_database to\n",
            "[nltk_data]    |     /root/nltk_data...\n",
            "[nltk_data]    |   Unzipping corpora/city_database.zip.\n",
            "[nltk_data]    | Downloading package cmudict to /root/nltk_data...\n",
            "[nltk_data]    |   Unzipping corpora/cmudict.zip.\n",
            "[nltk_data]    | Downloading package comparative_sentences to\n",
            "[nltk_data]    |     /root/nltk_data...\n",
            "[nltk_data]    |   Unzipping corpora/comparative_sentences.zip.\n",
            "[nltk_data]    | Downloading package comtrans to /root/nltk_data...\n",
            "[nltk_data]    | Downloading package conll2000 to /root/nltk_data...\n",
            "[nltk_data]    |   Unzipping corpora/conll2000.zip.\n",
            "[nltk_data]    | Downloading package conll2002 to /root/nltk_data...\n",
            "[nltk_data]    |   Unzipping corpora/conll2002.zip.\n",
            "[nltk_data]    | Downloading package conll2007 to /root/nltk_data...\n",
            "[nltk_data]    | Downloading package crubadan to /root/nltk_data...\n",
            "[nltk_data]    |   Unzipping corpora/crubadan.zip.\n",
            "[nltk_data]    | Downloading package dependency_treebank to\n",
            "[nltk_data]    |     /root/nltk_data...\n",
            "[nltk_data]    |   Unzipping corpora/dependency_treebank.zip.\n",
            "[nltk_data]    | Downloading package dolch to /root/nltk_data...\n",
            "[nltk_data]    |   Unzipping corpora/dolch.zip.\n",
            "[nltk_data]    | Downloading package europarl_raw to\n",
            "[nltk_data]    |     /root/nltk_data...\n",
            "[nltk_data]    |   Unzipping corpora/europarl_raw.zip.\n",
            "[nltk_data]    | Downloading package extended_omw to\n",
            "[nltk_data]    |     /root/nltk_data...\n",
            "[nltk_data]    | Downloading package floresta to /root/nltk_data...\n",
            "[nltk_data]    |   Unzipping corpora/floresta.zip.\n",
            "[nltk_data]    | Downloading package framenet_v15 to\n",
            "[nltk_data]    |     /root/nltk_data...\n",
            "[nltk_data]    |   Unzipping corpora/framenet_v15.zip.\n",
            "[nltk_data]    | Downloading package framenet_v17 to\n",
            "[nltk_data]    |     /root/nltk_data...\n",
            "[nltk_data]    |   Unzipping corpora/framenet_v17.zip.\n",
            "[nltk_data]    | Downloading package gazetteers to /root/nltk_data...\n",
            "[nltk_data]    |   Unzipping corpora/gazetteers.zip.\n",
            "[nltk_data]    | Downloading package genesis to /root/nltk_data...\n",
            "[nltk_data]    |   Unzipping corpora/genesis.zip.\n",
            "[nltk_data]    | Downloading package gutenberg to /root/nltk_data...\n",
            "[nltk_data]    |   Unzipping corpora/gutenberg.zip.\n",
            "[nltk_data]    | Downloading package ieer to /root/nltk_data...\n",
            "[nltk_data]    |   Unzipping corpora/ieer.zip.\n",
            "[nltk_data]    | Downloading package inaugural to /root/nltk_data...\n",
            "[nltk_data]    |   Unzipping corpora/inaugural.zip.\n",
            "[nltk_data]    | Downloading package indian to /root/nltk_data...\n",
            "[nltk_data]    |   Unzipping corpora/indian.zip.\n",
            "[nltk_data]    | Downloading package jeita to /root/nltk_data...\n",
            "[nltk_data]    | Downloading package kimmo to /root/nltk_data...\n",
            "[nltk_data]    |   Unzipping corpora/kimmo.zip.\n",
            "[nltk_data]    | Downloading package knbc to /root/nltk_data...\n",
            "[nltk_data]    | Downloading package large_grammars to\n",
            "[nltk_data]    |     /root/nltk_data...\n",
            "[nltk_data]    |   Unzipping grammars/large_grammars.zip.\n",
            "[nltk_data]    | Downloading package lin_thesaurus to\n",
            "[nltk_data]    |     /root/nltk_data...\n",
            "[nltk_data]    |   Unzipping corpora/lin_thesaurus.zip.\n",
            "[nltk_data]    | Downloading package mac_morpho to /root/nltk_data...\n",
            "[nltk_data]    |   Unzipping corpora/mac_morpho.zip.\n",
            "[nltk_data]    | Downloading package machado to /root/nltk_data...\n",
            "[nltk_data]    | Downloading package masc_tagged to /root/nltk_data...\n",
            "[nltk_data]    | Downloading package maxent_ne_chunker to\n",
            "[nltk_data]    |     /root/nltk_data...\n",
            "[nltk_data]    |   Unzipping chunkers/maxent_ne_chunker.zip.\n",
            "[nltk_data]    | Downloading package maxent_treebank_pos_tagger to\n",
            "[nltk_data]    |     /root/nltk_data...\n",
            "[nltk_data]    |   Unzipping taggers/maxent_treebank_pos_tagger.zip.\n",
            "[nltk_data]    | Downloading package moses_sample to\n",
            "[nltk_data]    |     /root/nltk_data...\n",
            "[nltk_data]    |   Unzipping models/moses_sample.zip.\n",
            "[nltk_data]    | Downloading package movie_reviews to\n",
            "[nltk_data]    |     /root/nltk_data...\n",
            "[nltk_data]    |   Unzipping corpora/movie_reviews.zip.\n",
            "[nltk_data]    | Downloading package mte_teip5 to /root/nltk_data...\n",
            "[nltk_data]    |   Unzipping corpora/mte_teip5.zip.\n",
            "[nltk_data]    | Downloading package mwa_ppdb to /root/nltk_data...\n",
            "[nltk_data]    |   Unzipping misc/mwa_ppdb.zip.\n",
            "[nltk_data]    | Downloading package names to /root/nltk_data...\n",
            "[nltk_data]    |   Unzipping corpora/names.zip.\n",
            "[nltk_data]    | Downloading package nombank.1.0 to /root/nltk_data...\n",
            "[nltk_data]    | Downloading package nonbreaking_prefixes to\n",
            "[nltk_data]    |     /root/nltk_data...\n",
            "[nltk_data]    |   Unzipping corpora/nonbreaking_prefixes.zip.\n",
            "[nltk_data]    | Downloading package nps_chat to /root/nltk_data...\n",
            "[nltk_data]    |   Unzipping corpora/nps_chat.zip.\n",
            "[nltk_data]    | Downloading package omw to /root/nltk_data...\n",
            "[nltk_data]    | Downloading package omw-1.4 to /root/nltk_data...\n",
            "[nltk_data]    | Downloading package opinion_lexicon to\n",
            "[nltk_data]    |     /root/nltk_data...\n",
            "[nltk_data]    |   Unzipping corpora/opinion_lexicon.zip.\n",
            "[nltk_data]    | Downloading package panlex_swadesh to\n",
            "[nltk_data]    |     /root/nltk_data...\n",
            "[nltk_data]    | Downloading package paradigms to /root/nltk_data...\n",
            "[nltk_data]    |   Unzipping corpora/paradigms.zip.\n",
            "[nltk_data]    | Downloading package pe08 to /root/nltk_data...\n",
            "[nltk_data]    |   Unzipping corpora/pe08.zip.\n",
            "[nltk_data]    | Downloading package perluniprops to\n",
            "[nltk_data]    |     /root/nltk_data...\n",
            "[nltk_data]    |   Unzipping misc/perluniprops.zip.\n",
            "[nltk_data]    | Downloading package pil to /root/nltk_data...\n",
            "[nltk_data]    |   Unzipping corpora/pil.zip.\n",
            "[nltk_data]    | Downloading package pl196x to /root/nltk_data...\n",
            "[nltk_data]    |   Unzipping corpora/pl196x.zip.\n",
            "[nltk_data]    | Downloading package porter_test to /root/nltk_data...\n",
            "[nltk_data]    |   Unzipping stemmers/porter_test.zip.\n",
            "[nltk_data]    | Downloading package ppattach to /root/nltk_data...\n",
            "[nltk_data]    |   Unzipping corpora/ppattach.zip.\n",
            "[nltk_data]    | Downloading package problem_reports to\n",
            "[nltk_data]    |     /root/nltk_data...\n",
            "[nltk_data]    |   Unzipping corpora/problem_reports.zip.\n",
            "[nltk_data]    | Downloading package product_reviews_1 to\n",
            "[nltk_data]    |     /root/nltk_data...\n",
            "[nltk_data]    |   Unzipping corpora/product_reviews_1.zip.\n",
            "[nltk_data]    | Downloading package product_reviews_2 to\n",
            "[nltk_data]    |     /root/nltk_data...\n",
            "[nltk_data]    |   Unzipping corpora/product_reviews_2.zip.\n",
            "[nltk_data]    | Downloading package propbank to /root/nltk_data...\n",
            "[nltk_data]    | Downloading package pros_cons to /root/nltk_data...\n",
            "[nltk_data]    |   Unzipping corpora/pros_cons.zip.\n",
            "[nltk_data]    | Downloading package ptb to /root/nltk_data...\n",
            "[nltk_data]    |   Unzipping corpora/ptb.zip.\n",
            "[nltk_data]    | Downloading package punkt to /root/nltk_data...\n",
            "[nltk_data]    |   Unzipping tokenizers/punkt.zip.\n",
            "[nltk_data]    | Downloading package qc to /root/nltk_data...\n",
            "[nltk_data]    |   Unzipping corpora/qc.zip.\n",
            "[nltk_data]    | Downloading package reuters to /root/nltk_data...\n",
            "[nltk_data]    | Downloading package rslp to /root/nltk_data...\n",
            "[nltk_data]    |   Unzipping stemmers/rslp.zip.\n",
            "[nltk_data]    | Downloading package rte to /root/nltk_data...\n",
            "[nltk_data]    |   Unzipping corpora/rte.zip.\n",
            "[nltk_data]    | Downloading package sample_grammars to\n",
            "[nltk_data]    |     /root/nltk_data...\n",
            "[nltk_data]    |   Unzipping grammars/sample_grammars.zip.\n",
            "[nltk_data]    | Downloading package semcor to /root/nltk_data...\n",
            "[nltk_data]    | Downloading package senseval to /root/nltk_data...\n",
            "[nltk_data]    |   Unzipping corpora/senseval.zip.\n",
            "[nltk_data]    | Downloading package sentence_polarity to\n",
            "[nltk_data]    |     /root/nltk_data...\n",
            "[nltk_data]    |   Unzipping corpora/sentence_polarity.zip.\n",
            "[nltk_data]    | Downloading package sentiwordnet to\n",
            "[nltk_data]    |     /root/nltk_data...\n",
            "[nltk_data]    |   Unzipping corpora/sentiwordnet.zip.\n",
            "[nltk_data]    | Downloading package shakespeare to /root/nltk_data...\n",
            "[nltk_data]    |   Unzipping corpora/shakespeare.zip.\n",
            "[nltk_data]    | Downloading package sinica_treebank to\n",
            "[nltk_data]    |     /root/nltk_data...\n",
            "[nltk_data]    |   Unzipping corpora/sinica_treebank.zip.\n",
            "[nltk_data]    | Downloading package smultron to /root/nltk_data...\n",
            "[nltk_data]    |   Unzipping corpora/smultron.zip.\n",
            "[nltk_data]    | Downloading package snowball_data to\n",
            "[nltk_data]    |     /root/nltk_data...\n",
            "[nltk_data]    | Downloading package spanish_grammars to\n",
            "[nltk_data]    |     /root/nltk_data...\n",
            "[nltk_data]    |   Unzipping grammars/spanish_grammars.zip.\n",
            "[nltk_data]    | Downloading package state_union to /root/nltk_data...\n",
            "[nltk_data]    |   Unzipping corpora/state_union.zip.\n",
            "[nltk_data]    | Downloading package stopwords to /root/nltk_data...\n",
            "[nltk_data]    |   Unzipping corpora/stopwords.zip.\n",
            "[nltk_data]    | Downloading package subjectivity to\n",
            "[nltk_data]    |     /root/nltk_data...\n",
            "[nltk_data]    |   Unzipping corpora/subjectivity.zip.\n",
            "[nltk_data]    | Downloading package swadesh to /root/nltk_data...\n",
            "[nltk_data]    |   Unzipping corpora/swadesh.zip.\n",
            "[nltk_data]    | Downloading package switchboard to /root/nltk_data...\n",
            "[nltk_data]    |   Unzipping corpora/switchboard.zip.\n",
            "[nltk_data]    | Downloading package tagsets to /root/nltk_data...\n",
            "[nltk_data]    |   Unzipping help/tagsets.zip.\n",
            "[nltk_data]    | Downloading package timit to /root/nltk_data...\n",
            "[nltk_data]    |   Unzipping corpora/timit.zip.\n",
            "[nltk_data]    | Downloading package toolbox to /root/nltk_data...\n",
            "[nltk_data]    |   Unzipping corpora/toolbox.zip.\n",
            "[nltk_data]    | Downloading package treebank to /root/nltk_data...\n",
            "[nltk_data]    |   Unzipping corpora/treebank.zip.\n",
            "[nltk_data]    | Downloading package twitter_samples to\n",
            "[nltk_data]    |     /root/nltk_data...\n",
            "[nltk_data]    |   Unzipping corpora/twitter_samples.zip.\n",
            "[nltk_data]    | Downloading package udhr to /root/nltk_data...\n",
            "[nltk_data]    |   Unzipping corpora/udhr.zip.\n",
            "[nltk_data]    | Downloading package udhr2 to /root/nltk_data...\n",
            "[nltk_data]    |   Unzipping corpora/udhr2.zip.\n",
            "[nltk_data]    | Downloading package unicode_samples to\n",
            "[nltk_data]    |     /root/nltk_data...\n",
            "[nltk_data]    |   Unzipping corpora/unicode_samples.zip.\n",
            "[nltk_data]    | Downloading package universal_tagset to\n",
            "[nltk_data]    |     /root/nltk_data...\n",
            "[nltk_data]    |   Unzipping taggers/universal_tagset.zip.\n",
            "[nltk_data]    | Downloading package universal_treebanks_v20 to\n",
            "[nltk_data]    |     /root/nltk_data...\n",
            "[nltk_data]    | Downloading package vader_lexicon to\n",
            "[nltk_data]    |     /root/nltk_data...\n",
            "[nltk_data]    | Downloading package verbnet to /root/nltk_data...\n",
            "[nltk_data]    |   Unzipping corpora/verbnet.zip.\n",
            "[nltk_data]    | Downloading package verbnet3 to /root/nltk_data...\n",
            "[nltk_data]    |   Unzipping corpora/verbnet3.zip.\n",
            "[nltk_data]    | Downloading package webtext to /root/nltk_data...\n",
            "[nltk_data]    |   Unzipping corpora/webtext.zip.\n",
            "[nltk_data]    | Downloading package wmt15_eval to /root/nltk_data...\n",
            "[nltk_data]    |   Unzipping models/wmt15_eval.zip.\n",
            "[nltk_data]    | Downloading package word2vec_sample to\n",
            "[nltk_data]    |     /root/nltk_data...\n",
            "[nltk_data]    |   Unzipping models/word2vec_sample.zip.\n",
            "[nltk_data]    | Downloading package wordnet to /root/nltk_data...\n",
            "[nltk_data]    | Downloading package wordnet2021 to /root/nltk_data...\n",
            "[nltk_data]    | Downloading package wordnet2022 to /root/nltk_data...\n",
            "[nltk_data]    |   Unzipping corpora/wordnet2022.zip.\n",
            "[nltk_data]    | Downloading package wordnet31 to /root/nltk_data...\n",
            "[nltk_data]    | Downloading package wordnet_ic to /root/nltk_data...\n",
            "[nltk_data]    |   Unzipping corpora/wordnet_ic.zip.\n",
            "[nltk_data]    | Downloading package words to /root/nltk_data...\n",
            "[nltk_data]    |   Unzipping corpora/words.zip.\n",
            "[nltk_data]    | Downloading package ycoe to /root/nltk_data...\n",
            "[nltk_data]    |   Unzipping corpora/ycoe.zip.\n",
            "[nltk_data]    | \n",
            "[nltk_data]  Done downloading collection all\n"
          ]
        },
        {
          "output_type": "execute_result",
          "data": {
            "text/plain": [
              "True"
            ]
          },
          "metadata": {},
          "execution_count": 34
        }
      ]
    },
    {
      "cell_type": "code",
      "execution_count": null,
      "id": "5b0507b2",
      "metadata": {
        "id": "5b0507b2"
      },
      "outputs": [],
      "source": [
        "x_train_token = X_train.apply(tokenization)\n",
        "x_test_token =X_test.apply(tokenization)"
      ]
    },
    {
      "cell_type": "code",
      "execution_count": null,
      "id": "171bc16a",
      "metadata": {
        "id": "171bc16a",
        "outputId": "110e2b33-a316-4c38-d4fd-1ec294e98dac",
        "colab": {
          "base_uri": "https://localhost:8080/"
        }
      },
      "outputs": [
        {
          "output_type": "execute_result",
          "data": {
            "text/plain": [
              "17167               [Fabulous, worth, of, pennyREAD, MORE]\n",
              "4702                                      [GoodREAD, MORE]\n",
              "1707     [the, product, is, good, but, the, delivery, w...\n",
              "254      [This, is, what, I, wanted, ., I, got, it, @, ...\n",
              "11761    [It, has, issue, in, connectivity, ,, it, does...\n",
              "Name: review, dtype: object"
            ]
          },
          "metadata": {},
          "execution_count": 36
        }
      ],
      "source": [
        "x_train_token.head()"
      ]
    },
    {
      "cell_type": "code",
      "execution_count": null,
      "id": "b7667d8c",
      "metadata": {
        "id": "b7667d8c",
        "outputId": "790aebab-deb9-4944-c824-6c14ee82f81d",
        "colab": {
          "base_uri": "https://localhost:8080/"
        }
      },
      "outputs": [
        {
          "output_type": "execute_result",
          "data": {
            "text/plain": [
              "6757     [It, is, very, good, product, but, the, bass, ...\n",
              "13197                                  [Nice, 👌READ, MORE]\n",
              "15949          [Nice, product, at, good, price.READ, MORE]\n",
              "19533    [I, liked, the, sound, quality, but, it, does,...\n",
              "6491     [The, product, is, awesome, but, make, the, pr...\n",
              "Name: review, dtype: object"
            ]
          },
          "metadata": {},
          "execution_count": 37
        }
      ],
      "source": [
        "x_test_token.head()"
      ]
    },
    {
      "cell_type": "markdown",
      "id": "9a021bf2",
      "metadata": {
        "id": "9a021bf2"
      },
      "source": [
        "#### Remove Punctuation"
      ]
    },
    {
      "cell_type": "code",
      "execution_count": null,
      "id": "18e60683",
      "metadata": {
        "id": "18e60683"
      },
      "outputs": [],
      "source": [
        "def remove_punctuation(data):\n",
        "    clean_text = [x for x in data if x.isalpha()]\n",
        "    return clean_text"
      ]
    },
    {
      "cell_type": "code",
      "execution_count": null,
      "id": "8a6e0880",
      "metadata": {
        "id": "8a6e0880"
      },
      "outputs": [],
      "source": [
        "x_train_without_punt = x_train_token.apply(remove_punctuation)\n",
        "x_test_without_punt = x_test_token.apply(remove_punctuation)"
      ]
    },
    {
      "cell_type": "code",
      "execution_count": null,
      "id": "c8543b72",
      "metadata": {
        "id": "c8543b72",
        "outputId": "b6b5d02b-d7a9-4294-d013-c28439e47ed4",
        "colab": {
          "base_uri": "https://localhost:8080/"
        }
      },
      "outputs": [
        {
          "output_type": "execute_result",
          "data": {
            "text/plain": [
              "17167               [Fabulous, worth, of, pennyREAD, MORE]\n",
              "4702                                      [GoodREAD, MORE]\n",
              "1707     [the, product, is, good, but, the, delivery, w...\n",
              "254      [This, is, what, I, wanted, I, got, it, INR, I...\n",
              "11761    [It, has, issue, in, connectivity, it, does, p...\n",
              "Name: review, dtype: object"
            ]
          },
          "metadata": {},
          "execution_count": 40
        }
      ],
      "source": [
        "x_train_without_punt.head()"
      ]
    },
    {
      "cell_type": "markdown",
      "id": "4971415e",
      "metadata": {
        "id": "4971415e"
      },
      "source": [
        "#### Normalization"
      ]
    },
    {
      "cell_type": "code",
      "execution_count": null,
      "id": "474a97bc",
      "metadata": {
        "id": "474a97bc"
      },
      "outputs": [],
      "source": [
        "def normalization(data):\n",
        "    lower = [x.lower() for x in data]\n",
        "    return lower"
      ]
    },
    {
      "cell_type": "code",
      "execution_count": null,
      "id": "b2cb6529",
      "metadata": {
        "id": "b2cb6529"
      },
      "outputs": [],
      "source": [
        "x_train_normal = x_train_without_punt.apply(normalization)\n",
        "x_test_normal = x_test_without_punt.apply(normalization)"
      ]
    },
    {
      "cell_type": "code",
      "execution_count": null,
      "id": "c0026396",
      "metadata": {
        "id": "c0026396",
        "outputId": "d0580498-3d22-470a-b1e3-1319fdfe3b8e",
        "colab": {
          "base_uri": "https://localhost:8080/"
        }
      },
      "outputs": [
        {
          "output_type": "execute_result",
          "data": {
            "text/plain": [
              "17167               [fabulous, worth, of, pennyread, more]\n",
              "4702                                      [goodread, more]\n",
              "1707     [the, product, is, good, but, the, delivery, w...\n",
              "254      [this, is, what, i, wanted, i, got, it, inr, i...\n",
              "11761    [it, has, issue, in, connectivity, it, does, p...\n",
              "Name: review, dtype: object"
            ]
          },
          "metadata": {},
          "execution_count": 43
        }
      ],
      "source": [
        "x_train_normal.head()"
      ]
    },
    {
      "cell_type": "markdown",
      "id": "8cdf1b53",
      "metadata": {
        "id": "8cdf1b53"
      },
      "source": [
        "#### Stopwords Removal"
      ]
    },
    {
      "cell_type": "code",
      "execution_count": null,
      "id": "5142af14",
      "metadata": {
        "id": "5142af14"
      },
      "outputs": [],
      "source": [
        "domain_stop_w = [\"headphone\", 'delivery', 'delivered','product','voice']\n",
        "def stopwords_remove(data):\n",
        "    from nltk.corpus import stopwords\n",
        "    stop = stopwords.words('english')\n",
        "    clean_text = [x for x in data if x not in stop and x not in domain_stop_w]\n",
        "    return clean_text "
      ]
    },
    {
      "cell_type": "code",
      "execution_count": null,
      "id": "c46cd1cf",
      "metadata": {
        "id": "c46cd1cf"
      },
      "outputs": [],
      "source": [
        "x_train1= x_train_normal.apply(stopwords_remove)\n",
        "x_test1= x_test_normal.apply(stopwords_remove)"
      ]
    },
    {
      "cell_type": "code",
      "execution_count": null,
      "id": "8bc90d1b",
      "metadata": {
        "id": "8bc90d1b",
        "outputId": "b0428598-818b-4bee-dccb-af5d9e1aad91",
        "colab": {
          "base_uri": "https://localhost:8080/"
        }
      },
      "outputs": [
        {
          "output_type": "execute_result",
          "data": {
            "text/plain": [
              "17167                         [fabulous, worth, pennyread]\n",
              "4702                                            [goodread]\n",
              "1707     [good, late, found, days, ordered, give, stars...\n",
              "254      [wanted, got, inr, seriously, loving, boat, te...\n",
              "11761                          [issue, connectivity, play]\n",
              "Name: review, dtype: object"
            ]
          },
          "metadata": {},
          "execution_count": 46
        }
      ],
      "source": [
        "x_train1.head()"
      ]
    },
    {
      "cell_type": "code",
      "execution_count": null,
      "id": "0080e8fa",
      "metadata": {
        "scrolled": true,
        "id": "0080e8fa",
        "outputId": "407a8da6-2780-4926-e012-1e4fdd9abf98",
        "colab": {
          "base_uri": "https://localhost:8080/"
        }
      },
      "outputs": [
        {
          "output_type": "execute_result",
          "data": {
            "text/plain": [
              "6757     [good, bass, high, build, quality, good, ur, b...\n",
              "13197                                               [nice]\n",
              "15949                                         [nice, good]\n",
              "19533    [liked, sound, quality, sit, well, ear, little...\n",
              "6491     [awesome, make, comfortable, stretchable, make...\n",
              "Name: review, dtype: object"
            ]
          },
          "metadata": {},
          "execution_count": 47
        }
      ],
      "source": [
        "x_test1.head()"
      ]
    },
    {
      "cell_type": "markdown",
      "id": "2869b379",
      "metadata": {
        "id": "2869b379"
      },
      "source": [
        "#### Lemmatiazation"
      ]
    },
    {
      "cell_type": "code",
      "execution_count": null,
      "id": "39481d01",
      "metadata": {
        "id": "39481d01"
      },
      "outputs": [],
      "source": [
        "def lemmatization(data):\n",
        "    from nltk.stem import WordNetLemmatizer\n",
        "    lemma = WordNetLemmatizer()\n",
        "    l1 = []\n",
        "    for i in data :\n",
        "        text1 = lemma.lemmatize(i)\n",
        "        l1.append(text1)\n",
        "    return l1"
      ]
    },
    {
      "cell_type": "code",
      "execution_count": null,
      "id": "37376e69",
      "metadata": {
        "id": "37376e69"
      },
      "outputs": [],
      "source": [
        "final_train = x_train1.apply(lemmatization)\n",
        "final_test = x_test1.apply(lemmatization)"
      ]
    },
    {
      "cell_type": "code",
      "execution_count": null,
      "id": "3bd60dad",
      "metadata": {
        "scrolled": true,
        "id": "3bd60dad",
        "outputId": "55526fc1-1162-4a5c-b578-8f7c84ba08b5",
        "colab": {
          "base_uri": "https://localhost:8080/"
        }
      },
      "outputs": [
        {
          "output_type": "execute_result",
          "data": {
            "text/plain": [
              "17167                         [fabulous, worth, pennyread]\n",
              "4702                                            [goodread]\n",
              "1707     [good, late, found, day, ordered, give, star, ...\n",
              "254      [wanted, got, inr, seriously, loving, boat, te...\n",
              "11761                          [issue, connectivity, play]\n",
              "Name: review, dtype: object"
            ]
          },
          "metadata": {},
          "execution_count": 50
        }
      ],
      "source": [
        "final_train.head()"
      ]
    },
    {
      "cell_type": "code",
      "execution_count": null,
      "id": "2772430c",
      "metadata": {
        "id": "2772430c",
        "outputId": "6757f42e-7cd7-4606-8e4e-0268fe561c0f",
        "colab": {
          "base_uri": "https://localhost:8080/"
        }
      },
      "outputs": [
        {
          "output_type": "execute_result",
          "data": {
            "text/plain": [
              "6757     [good, bass, high, build, quality, good, ur, b...\n",
              "13197                                               [nice]\n",
              "15949                                         [nice, good]\n",
              "19533    [liked, sound, quality, sit, well, ear, little...\n",
              "6491     [awesome, make, comfortable, stretchable, make...\n",
              "Name: review, dtype: object"
            ]
          },
          "metadata": {},
          "execution_count": 51
        }
      ],
      "source": [
        "final_test.head()"
      ]
    },
    {
      "cell_type": "markdown",
      "id": "28dabe18",
      "metadata": {
        "id": "28dabe18"
      },
      "source": [
        "### World Cloud"
      ]
    },
    {
      "cell_type": "code",
      "execution_count": null,
      "id": "33335eb5",
      "metadata": {
        "id": "33335eb5",
        "outputId": "2d22c1fa-92fa-46a0-e7bd-c5c51472306e",
        "colab": {
          "base_uri": "https://localhost:8080/",
          "height": 453
        }
      },
      "outputs": [
        {
          "output_type": "display_data",
          "data": {
            "text/plain": [
              "<Figure size 1500x1500 with 1 Axes>"
            ],
            "image/png": "[encoded data removed]"
          },
          "metadata": {}
        }
      ],
      "source": [
        "from wordcloud import WordCloud,STOPWORDS\n",
        "stopwords = set(STOPWORDS)\n",
        "def show_wordcloud(data):\n",
        "    wordcloud= WordCloud(background_color='white',stopwords=stopwords,max_words=100,max_font_size=30,scale=3,random_state=1)\n",
        "    wordcloud = wordcloud.generate(str(data))\n",
        "    fig = plt.figure(1,figsize=(15,15))\n",
        "    plt.axis('off')\n",
        "    plt.imshow(wordcloud)\n",
        "    plt.show()\n",
        "    \n",
        "show_wordcloud(final_test)"
      ]
    },
    {
      "cell_type": "markdown",
      "id": "5ade503b",
      "metadata": {
        "id": "5ade503b"
      },
      "source": [
        "#### Joining Words"
      ]
    },
    {
      "cell_type": "code",
      "execution_count": null,
      "id": "3c88e0a8",
      "metadata": {
        "id": "3c88e0a8"
      },
      "outputs": [],
      "source": [
        "def join_list(data):\n",
        "    text = \" \".join(data)\n",
        "    return text"
      ]
    },
    {
      "cell_type": "code",
      "execution_count": null,
      "id": "1fe528d5",
      "metadata": {
        "id": "1fe528d5"
      },
      "outputs": [],
      "source": [
        "final_text_train = final_train.apply(join_list)\n",
        "final_text_test = final_test.apply(join_list)"
      ]
    },
    {
      "cell_type": "code",
      "execution_count": null,
      "id": "f9b545ff",
      "metadata": {
        "collapsed": true,
        "id": "f9b545ff",
        "outputId": "daa96bdd-a5fa-4362-e9a7-a29df2aee642",
        "colab": {
          "base_uri": "https://localhost:8080/"
        }
      },
      "outputs": [
        {
          "output_type": "execute_result",
          "data": {
            "text/plain": [
              "17167                             fabulous worth pennyread\n",
              "4702                                              goodread\n",
              "1707     good late found day ordered give star headphon...\n",
              "254      wanted got inr seriously loving boat team done...\n",
              "11761                              issue connectivity play\n",
              "                               ...                        \n",
              "11284    nice productsound amazing battery back also go...\n",
              "11964                                happy buy bb daysread\n",
              "5390                                              niceread\n",
              "860      value money good think connectivity good bluet...\n",
              "15795                                best headset thisread\n",
              "Name: review, Length: 15961, dtype: object"
            ]
          },
          "metadata": {},
          "execution_count": 55
        }
      ],
      "source": [
        "final_text_train"
      ]
    },
    {
      "cell_type": "code",
      "execution_count": null,
      "id": "ecbfd4e8",
      "metadata": {
        "collapsed": true,
        "id": "ecbfd4e8",
        "outputId": "46b25bae-a7e9-4df9-f440-e094d2eff541",
        "colab": {
          "base_uri": "https://localhost:8080/"
        }
      },
      "outputs": [
        {
          "output_type": "execute_result",
          "data": {
            "text/plain": [
              "6757     good bass high build quality good ur budget hi...\n",
              "13197                                                 nice\n",
              "15949                                            nice good\n",
              "19533    liked sound quality sit well ear little bit di...\n",
              "6491     awesome make comfortable stretchable make pres...\n",
              "                               ...                        \n",
              "9809               must buy highly recommendedfix muchread\n",
              "13935    feel like listening coolest loudest headphone ...\n",
              "9594                                              goodread\n",
              "14720                                             niceread\n",
              "9143                                      nice productread\n",
              "Name: review, Length: 3991, dtype: object"
            ]
          },
          "metadata": {},
          "execution_count": 56
        }
      ],
      "source": [
        "final_text_test"
      ]
    },
    {
      "cell_type": "markdown",
      "id": "13d4b063",
      "metadata": {
        "id": "13d4b063"
      },
      "source": [
        "## 1. CountVectorizer"
      ]
    },
    {
      "cell_type": "code",
      "execution_count": null,
      "id": "644d568f",
      "metadata": {
        "id": "644d568f"
      },
      "outputs": [],
      "source": [
        "from sklearn.feature_extraction.text import CountVectorizer\n",
        "cv = CountVectorizer(lowercase=True,stop_words='english',max_df=0.95,max_features=1200)\n",
        "count_train = cv.fit_transform(final_text_train)\n",
        "count_test = cv.transform(final_text_test)"
      ]
    },
    {
      "cell_type": "markdown",
      "id": "35922c74",
      "metadata": {
        "id": "35922c74"
      },
      "source": [
        "#### final DF for analysis"
      ]
    },
    {
      "cell_type": "code",
      "execution_count": null,
      "id": "59d596a6",
      "metadata": {
        "id": "59d596a6"
      },
      "outputs": [],
      "source": [
        "df = pd.DataFrame(count_train.A)"
      ]
    },
    {
      "cell_type": "code",
      "execution_count": null,
      "id": "678ad67b",
      "metadata": {
        "id": "678ad67b",
        "outputId": "2f528263-a2fc-4aa2-c719-128c043d243e"
      },
      "outputs": [
        {
          "data": {
            "text/html": [
              "<div>\n",
              "<style scoped>\n",
              "    .dataframe tbody tr th:only-of-type {\n",
              "        vertical-align: middle;\n",
              "    }\n",
              "\n",
              "    .dataframe tbody tr th {\n",
              "        vertical-align: top;\n",
              "    }\n",
              "\n",
              "    .dataframe thead th {\n",
              "        text-align: right;\n",
              "    }\n",
              "</style>\n",
              "<table border=\"1\" class=\"dataframe\">\n",
              "  <thead>\n",
              "    <tr style=\"text-align: right;\">\n",
              "      <th></th>\n",
              "      <th>able</th>\n",
              "      <th>absolutely</th>\n",
              "      <th>accessory</th>\n",
              "      <th>according</th>\n",
              "      <th>actually</th>\n",
              "      <th>add</th>\n",
              "      <th>adjust</th>\n",
              "      <th>adjustable</th>\n",
              "      <th>adjusted</th>\n",
              "      <th>adjustment</th>\n",
              "      <th>...</th>\n",
              "      <th>wrong</th>\n",
              "      <th>wrost</th>\n",
              "      <th>yeah</th>\n",
              "      <th>year</th>\n",
              "      <th>yes</th>\n",
              "      <th>yesterday</th>\n",
              "      <th>youread</th>\n",
              "      <th>youtube</th>\n",
              "      <th>yr</th>\n",
              "      <th>zoom</th>\n",
              "    </tr>\n",
              "  </thead>\n",
              "  <tbody>\n",
              "    <tr>\n",
              "      <th>0</th>\n",
              "      <td>0</td>\n",
              "      <td>0</td>\n",
              "      <td>0</td>\n",
              "      <td>0</td>\n",
              "      <td>0</td>\n",
              "      <td>0</td>\n",
              "      <td>0</td>\n",
              "      <td>0</td>\n",
              "      <td>0</td>\n",
              "      <td>0</td>\n",
              "      <td>...</td>\n",
              "      <td>0</td>\n",
              "      <td>0</td>\n",
              "      <td>0</td>\n",
              "      <td>0</td>\n",
              "      <td>0</td>\n",
              "      <td>0</td>\n",
              "      <td>0</td>\n",
              "      <td>0</td>\n",
              "      <td>0</td>\n",
              "      <td>0</td>\n",
              "    </tr>\n",
              "    <tr>\n",
              "      <th>1</th>\n",
              "      <td>0</td>\n",
              "      <td>0</td>\n",
              "      <td>0</td>\n",
              "      <td>0</td>\n",
              "      <td>0</td>\n",
              "      <td>0</td>\n",
              "      <td>0</td>\n",
              "      <td>0</td>\n",
              "      <td>0</td>\n",
              "      <td>0</td>\n",
              "      <td>...</td>\n",
              "      <td>0</td>\n",
              "      <td>0</td>\n",
              "      <td>0</td>\n",
              "      <td>0</td>\n",
              "      <td>0</td>\n",
              "      <td>0</td>\n",
              "      <td>0</td>\n",
              "      <td>0</td>\n",
              "      <td>0</td>\n",
              "      <td>0</td>\n",
              "    </tr>\n",
              "    <tr>\n",
              "      <th>2</th>\n",
              "      <td>0</td>\n",
              "      <td>0</td>\n",
              "      <td>0</td>\n",
              "      <td>0</td>\n",
              "      <td>0</td>\n",
              "      <td>0</td>\n",
              "      <td>0</td>\n",
              "      <td>0</td>\n",
              "      <td>0</td>\n",
              "      <td>0</td>\n",
              "      <td>...</td>\n",
              "      <td>0</td>\n",
              "      <td>0</td>\n",
              "      <td>0</td>\n",
              "      <td>0</td>\n",
              "      <td>0</td>\n",
              "      <td>0</td>\n",
              "      <td>0</td>\n",
              "      <td>0</td>\n",
              "      <td>0</td>\n",
              "      <td>0</td>\n",
              "    </tr>\n",
              "    <tr>\n",
              "      <th>3</th>\n",
              "      <td>0</td>\n",
              "      <td>0</td>\n",
              "      <td>0</td>\n",
              "      <td>0</td>\n",
              "      <td>0</td>\n",
              "      <td>0</td>\n",
              "      <td>0</td>\n",
              "      <td>0</td>\n",
              "      <td>0</td>\n",
              "      <td>0</td>\n",
              "      <td>...</td>\n",
              "      <td>0</td>\n",
              "      <td>0</td>\n",
              "      <td>0</td>\n",
              "      <td>0</td>\n",
              "      <td>0</td>\n",
              "      <td>0</td>\n",
              "      <td>0</td>\n",
              "      <td>0</td>\n",
              "      <td>0</td>\n",
              "      <td>0</td>\n",
              "    </tr>\n",
              "    <tr>\n",
              "      <th>4</th>\n",
              "      <td>0</td>\n",
              "      <td>0</td>\n",
              "      <td>0</td>\n",
              "      <td>0</td>\n",
              "      <td>0</td>\n",
              "      <td>0</td>\n",
              "      <td>0</td>\n",
              "      <td>0</td>\n",
              "      <td>0</td>\n",
              "      <td>0</td>\n",
              "      <td>...</td>\n",
              "      <td>0</td>\n",
              "      <td>0</td>\n",
              "      <td>0</td>\n",
              "      <td>0</td>\n",
              "      <td>0</td>\n",
              "      <td>0</td>\n",
              "      <td>0</td>\n",
              "      <td>0</td>\n",
              "      <td>0</td>\n",
              "      <td>0</td>\n",
              "    </tr>\n",
              "  </tbody>\n",
              "</table>\n",
              "<p>5 rows × 1200 columns</p>\n",
              "</div>"
            ],
            "text/plain": [
              "   able  absolutely  accessory  according  actually  add  adjust  adjustable  \\\n",
              "0     0           0          0          0         0    0       0           0   \n",
              "1     0           0          0          0         0    0       0           0   \n",
              "2     0           0          0          0         0    0       0           0   \n",
              "3     0           0          0          0         0    0       0           0   \n",
              "4     0           0          0          0         0    0       0           0   \n",
              "\n",
              "   adjusted  adjustment  ...  wrong  wrost  yeah  year  yes  yesterday  \\\n",
              "0         0           0  ...      0      0     0     0    0          0   \n",
              "1         0           0  ...      0      0     0     0    0          0   \n",
              "2         0           0  ...      0      0     0     0    0          0   \n",
              "3         0           0  ...      0      0     0     0    0          0   \n",
              "4         0           0  ...      0      0     0     0    0          0   \n",
              "\n",
              "   youread  youtube  yr  zoom  \n",
              "0        0        0   0     0  \n",
              "1        0        0   0     0  \n",
              "2        0        0   0     0  \n",
              "3        0        0   0     0  \n",
              "4        0        0   0     0  \n",
              "\n",
              "[5 rows x 1200 columns]"
            ]
          },
          "execution_count": 47,
          "metadata": {},
          "output_type": "execute_result"
        }
      ],
      "source": [
        "df.head()"
      ]
    },
    {
      "cell_type": "code",
      "execution_count": null,
      "id": "e3e4d1a4",
      "metadata": {
        "id": "e3e4d1a4",
        "outputId": "d3fbd8c2-de11-4338-aa16-9067e8f6da89",
        "colab": {
          "base_uri": "https://localhost:8080/"
        }
      },
      "outputs": [
        {
          "output_type": "execute_result",
          "data": {
            "text/plain": [
              "(15961, 1200)"
            ]
          },
          "metadata": {},
          "execution_count": 62
        }
      ],
      "source": [
        "df.shape"
      ]
    },
    {
      "cell_type": "markdown",
      "id": "d022af18",
      "metadata": {
        "id": "d022af18"
      },
      "source": [
        "## Model Building"
      ]
    },
    {
      "cell_type": "markdown",
      "id": "c5b0ef62",
      "metadata": {
        "id": "c5b0ef62"
      },
      "source": [
        "#### Naive Bayes - MultinomialNB"
      ]
    },
    {
      "cell_type": "code",
      "execution_count": null,
      "id": "a11df18c",
      "metadata": {
        "id": "a11df18c"
      },
      "outputs": [],
      "source": [
        "from sklearn.naive_bayes import MultinomialNB\n",
        "from sklearn.metrics import accuracy_score\n",
        "from sklearn.metrics import ConfusionMatrixDisplay\n",
        "from sklearn.metrics import classification_report"
      ]
    },
    {
      "cell_type": "code",
      "execution_count": null,
      "id": "82f359dc",
      "metadata": {
        "id": "82f359dc"
      },
      "outputs": [],
      "source": [
        "mnb_model = MultinomialNB()\n",
        "mnb_model.fit(count_train.A,y_train)\n",
        "pred_mnb = mnb_model.predict(count_test.A)"
      ]
    },
    {
      "cell_type": "code",
      "execution_count": null,
      "id": "b1274356",
      "metadata": {
        "id": "b1274356",
        "outputId": "855625a1-1721-415d-a238-48caf46afaf6",
        "colab": {
          "base_uri": "https://localhost:8080/"
        }
      },
      "outputs": [
        {
          "output_type": "execute_result",
          "data": {
            "text/plain": [
              "array([5, 5, 5, ..., 5, 5, 5])"
            ]
          },
          "metadata": {},
          "execution_count": 68
        }
      ],
      "source": [
        "pred_mnb"
      ]
    },
    {
      "cell_type": "code",
      "execution_count": null,
      "id": "73151337",
      "metadata": {
        "id": "73151337",
        "outputId": "30c310fe-890a-48e0-83d9-45f942fe062b",
        "colab": {
          "base_uri": "https://localhost:8080/"
        }
      },
      "outputs": [
        {
          "output_type": "stream",
          "name": "stdout",
          "text": [
            "              precision    recall  f1-score   support\n",
            "\n",
            "           1       0.65      0.62      0.63       265\n",
            "           2       0.58      0.18      0.27       123\n",
            "           3       0.46      0.29      0.35       375\n",
            "           4       0.47      0.28      0.35       932\n",
            "           5       0.72      0.91      0.80      2296\n",
            "\n",
            "    accuracy                           0.66      3991\n",
            "   macro avg       0.57      0.45      0.48      3991\n",
            "weighted avg       0.63      0.66      0.63      3991\n",
            "\n"
          ]
        }
      ],
      "source": [
        "report = classification_report(y_test,pred_mnb)\n",
        "print(report)"
      ]
    }
  ],
  "metadata": {
    "kernelspec": {
      "display_name": "Python 3",
      "language": "python",
      "name": "python3"
    },
    "language_info": {
      "codemirror_mode": {
        "name": "ipython",
        "version": 3
      },
      "file_extension": ".py",
      "mimetype": "text/x-python",
      "name": "python",
      "nbconvert_exporter": "python",
      "pygments_lexer": "ipython3",
      "version": "3.8.8"
    },
    "colab": {
      "provenance": [],
      "include_colab_link": true
    }
  },
  "nbformat": 4,
  "nbformat_minor": 5
}